{
 "cells": [
  {
   "cell_type": "code",
   "execution_count": 5,
   "metadata": {},
   "outputs": [],
   "source": [
    "import pandas as pd\n",
    "import numpy as np\n",
    "from sklearn.ensemble import RandomForestClassifier\n",
    "from sklearn.model_selection import KFold\n",
    "from sklearn.metrics import f1_score\n",
    "from sklearn.metrics import accuracy_score"
   ]
  },
  {
   "cell_type": "code",
   "execution_count": 7,
   "metadata": {},
   "outputs": [
    {
     "name": "stdout",
     "output_type": "stream",
     "text": [
      "acc = 0.7611111111111112\n",
      "f1 = 0.7552348777348777\n"
     ]
    }
   ],
   "source": [
    "df = pd.read_csv(\"./Data/classification_data/step_size_adaptation_dim_5.csv\", index_col=0)\n",
    "df = df.replace('csa', 1)\n",
    "df = df.replace('psr', 0)\n",
    "# y = df[\"elitism\"] + \"-\" + df[\"budget\"].astype(str) \n",
    "y = df[\"step_size_adaptation\"] \n",
    "X = df.drop(['step_size_adaptation', 'budget'], axis=1)\n",
    "\n",
    "kf = KFold(n_splits=5)\n",
    "\n",
    "clf = RandomForestClassifier(random_state=42, n_estimators=100)\n",
    "\n",
    "accuracy_scores = []\n",
    "f1_scores = []\n",
    "\n",
    "\n",
    "\n",
    "for train_index, test_index in kf.split(X):\n",
    "    X_train, X_test = X.iloc[train_index], X.iloc[test_index]\n",
    "    y_train, y_test = y[train_index].values.ravel(), y[test_index].values.ravel()\n",
    "    clf.fit(X_train, y_train)\n",
    "    y_test = y_test.tolist()\n",
    "    y_pred = clf.predict(X_test).tolist()\n",
    "    acc = accuracy_score(y_test, y_pred)\n",
    "    f1 = f1_score(y_test, y_pred, average = 'weighted')\n",
    "    accuracy_scores.append(acc)\n",
    "    f1_scores.append(f1)\n",
    "\n",
    "print(\"acc = \"+str(np.mean(accuracy_scores)))\n",
    "print(\"f1 = \"+str(np.mean(f1_scores)))"
   ]
  },
  {
   "cell_type": "code",
   "execution_count": 8,
   "metadata": {},
   "outputs": [
    {
     "name": "stdout",
     "output_type": "stream",
     "text": [
      "acc = 0.6833333333333333\n",
      "f1 = 0.6814917477185279\n"
     ]
    }
   ],
   "source": [
    "df = pd.read_csv(\"./Data/classification_data/step_size_adaptation_dim_30.csv\", index_col=0)\n",
    "df = df.replace('csa', 1)\n",
    "df = df.replace('psr', 0)\n",
    "# y = df[\"elitism\"] + \"-\" + df[\"budget\"].astype(str) \n",
    "y = df[\"step_size_adaptation\"] \n",
    "X = df.drop(['step_size_adaptation', 'budget'], axis=1)\n",
    "\n",
    "kf = KFold(n_splits=5)\n",
    "\n",
    "clf = RandomForestClassifier(random_state=42, n_estimators=100)\n",
    "\n",
    "accuracy_scores = []\n",
    "f1_scores = []\n",
    "\n",
    "\n",
    "\n",
    "for train_index, test_index in kf.split(X):\n",
    "    X_train, X_test = X.iloc[train_index], X.iloc[test_index]\n",
    "    y_train, y_test = y[train_index].values.ravel(), y[test_index].values.ravel()\n",
    "    clf.fit(X_train, y_train)\n",
    "    y_test = y_test.tolist()\n",
    "    y_pred = clf.predict(X_test).tolist()\n",
    "    acc = accuracy_score(y_test, y_pred)\n",
    "    f1 = f1_score(y_test, y_pred, average = 'weighted')\n",
    "    accuracy_scores.append(acc)\n",
    "    f1_scores.append(f1)\n",
    "\n",
    "print(\"acc = \"+str(np.mean(accuracy_scores)))\n",
    "print(\"f1 = \"+str(np.mean(f1_scores)))"
   ]
  }
 ],
 "metadata": {
  "interpreter": {
   "hash": "082e9a3bcad0a290d0001e938aa60b99250c6c2ef33a923c00b70f9826caf4b7"
  },
  "kernelspec": {
   "display_name": "Python 3.8.3 64-bit",
   "language": "python",
   "name": "python3"
  },
  "language_info": {
   "codemirror_mode": {
    "name": "ipython",
    "version": 3
   },
   "file_extension": ".py",
   "mimetype": "text/x-python",
   "name": "python",
   "nbconvert_exporter": "python",
   "pygments_lexer": "ipython3",
   "version": "3.8.3"
  },
  "orig_nbformat": 4
 },
 "nbformat": 4,
 "nbformat_minor": 2
}
