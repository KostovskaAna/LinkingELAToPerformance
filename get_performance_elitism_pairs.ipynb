{
 "cells": [
  {
   "cell_type": "code",
   "execution_count": 17,
   "metadata": {},
   "outputs": [],
   "source": [
    "import pandas as pd\n",
    "import numpy as np\n",
    "\n",
    "configs = [(0, 810),(270, 1080), (1,811), (2, 812),(3, 813), (4, 814), (5, 815), (6, 816), (7, 817), (8, 818), (271, 1081)]\n",
    "df = pd.read_csv(\"./results/performance_table.csv\")\n",
    "df.head()\n",
    "columns = ['pair', '0-500', '1-500', '0-2000', '1-2000', '0-5000', '1-5000','0-10000', '1-10000','0-50000', '1-50000', '0-500', '1-500', '0-2000', '1-2000', '0-5000', '1-5000','0-10000', '1-10000','0-50000', '1-50000']\n",
    "budgets = [500, 2000, 5000, 10000, 50000]\n",
    "dims = [5, 30]\n",
    "data = []\n",
    "\n",
    "for config in configs:\n",
    "    config_module_on = config[0]\n",
    "    config_module_off = config[1]\n",
    "    arr = [str(config_module_off)+\"-\"+str(config_module_on)]\n",
    "    for dim in dims:\n",
    "        for budget in budgets: \n",
    "            row_on = df[(df['config']==\"dim_\"+str(dim)+\"_budget_\"+str(budget)+\"_conf_\"+str(config_module_on))&(df['model']==\"RandomForestRegressor()\")].iloc[0]\n",
    "            r2_score_on = row_on['r2']\n",
    "            row_off = df[(df['config']==\"dim_\"+str(dim)+\"_budget_\"+str(budget)+\"_conf_\"+str(config_module_off))&(df['model']==\"RandomForestRegressor()\")].iloc[0]\n",
    "            r2_score_off = row_off['r2']\n",
    "            arr.extend([r2_score_off, r2_score_on])\n",
    "    data.append(arr)\n",
    "df_result = pd.DataFrame(data, columns=columns)\n",
    "df_result.head()\n",
    "\n",
    "df_result.to_csv(\"./results/performance_elitism.csv\")"
   ]
  }
 ],
 "metadata": {
  "interpreter": {
   "hash": "082e9a3bcad0a290d0001e938aa60b99250c6c2ef33a923c00b70f9826caf4b7"
  },
  "kernelspec": {
   "display_name": "Python 3.8.3 64-bit",
   "language": "python",
   "name": "python3"
  },
  "language_info": {
   "codemirror_mode": {
    "name": "ipython",
    "version": 3
   },
   "file_extension": ".py",
   "mimetype": "text/x-python",
   "name": "python",
   "nbconvert_exporter": "python",
   "pygments_lexer": "ipython3",
   "version": "3.8.3"
  },
  "orig_nbformat": 4
 },
 "nbformat": 4,
 "nbformat_minor": 2
}
