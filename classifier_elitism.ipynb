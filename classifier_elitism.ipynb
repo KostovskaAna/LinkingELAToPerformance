{
 "cells": [
  {
   "cell_type": "code",
   "execution_count": 21,
   "metadata": {},
   "outputs": [
    {
     "name": "stdout",
     "output_type": "stream",
     "text": [
      "acc = 0.7909090909090909\n",
      "f1 = 0.7893835632966069\n"
     ]
    }
   ],
   "source": [
    "import pandas as pd\n",
    "import numpy as np\n",
    "from sklearn.ensemble import RandomForestClassifier\n",
    "from sklearn.model_selection import KFold\n",
    "from sklearn.metrics import f1_score\n",
    "from sklearn.metrics import accuracy_score\n",
    "\n",
    "df = pd.read_csv(\"./Data/classification_data/elitism_dim_5.csv\", index_col=0)\n",
    "df = df.replace('on', 1)\n",
    "df = df.replace('off', 0)\n",
    "# y = df[\"elitism\"] + \"-\" + df[\"budget\"].astype(str) \n",
    "y = df[\"elitism\"] \n",
    "X = df.drop(['elitism', 'budget'], axis=1)\n",
    "\n",
    "\n",
    "kf = KFold(n_splits=5)\n",
    "\n",
    "clf = RandomForestClassifier(random_state=42, n_estimators=100)\n",
    "\n",
    "accuracy_scores = []\n",
    "f1_scores = []\n",
    "\n",
    "\n",
    "\n",
    "for train_index, test_index in kf.split(X):\n",
    "    X_train, X_test = X.iloc[train_index], X.iloc[test_index]\n",
    "    y_train, y_test = y[train_index].values.ravel(), y[test_index].values.ravel()\n",
    "    clf.fit(X_train, y_train)\n",
    "    y_test = y_test.tolist()\n",
    "    y_pred = clf.predict(X_test).tolist()\n",
    "    acc = accuracy_score(y_test, y_pred)\n",
    "    f1 = f1_score(y_test, y_pred, average = 'weighted')\n",
    "    accuracy_scores.append(acc)\n",
    "    f1_scores.append(f1)\n",
    "\n",
    "print(\"acc = \"+str(np.mean(accuracy_scores)))\n",
    "print(\"f1 = \"+str(np.mean(f1_scores)))\n",
    "\n",
    "\n"
   ]
  },
  {
   "cell_type": "code",
   "execution_count": 22,
   "metadata": {},
   "outputs": [
    {
     "name": "stdout",
     "output_type": "stream",
     "text": [
      "acc = 0.6636363636363637\n",
      "f1 = 0.6622548466026726\n"
     ]
    }
   ],
   "source": [
    "df = pd.read_csv(\"./Data/classification_data/elitism_dim_30.csv\", index_col=0)\n",
    "df = df.replace('on', 1)\n",
    "df = df.replace('off', 0)\n",
    "# y = df[\"elitism\"] + \"-\" + df[\"budget\"].astype(str) \n",
    "y = df[\"elitism\"] \n",
    "X = df.drop(['elitism', 'budget'], axis=1)\n",
    "\n",
    "\n",
    "kf = KFold(n_splits=5)\n",
    "\n",
    "clf = RandomForestClassifier(random_state=42, n_estimators=100)\n",
    "\n",
    "accuracy_scores = []\n",
    "f1_scores = []\n",
    "\n",
    "\n",
    "\n",
    "for train_index, test_index in kf.split(X):\n",
    "    X_train, X_test = X.iloc[train_index], X.iloc[test_index]\n",
    "    y_train, y_test = y[train_index].values.ravel(), y[test_index].values.ravel()\n",
    "    clf.fit(X_train, y_train)\n",
    "    y_test = y_test.tolist()\n",
    "    y_pred = clf.predict(X_test).tolist()\n",
    "    acc = accuracy_score(y_test, y_pred)\n",
    "    f1 = f1_score(y_test, y_pred, average = 'weighted')\n",
    "    accuracy_scores.append(acc)\n",
    "    f1_scores.append(f1)\n",
    "\n",
    "print(\"acc = \"+str(np.mean(accuracy_scores)))\n",
    "print(\"f1 = \"+str(np.mean(f1_scores)))"
   ]
  }
 ],
 "metadata": {
  "interpreter": {
   "hash": "082e9a3bcad0a290d0001e938aa60b99250c6c2ef33a923c00b70f9826caf4b7"
  },
  "kernelspec": {
   "display_name": "Python 3.8.3 64-bit",
   "language": "python",
   "name": "python3"
  },
  "language_info": {
   "codemirror_mode": {
    "name": "ipython",
    "version": 3
   },
   "file_extension": ".py",
   "mimetype": "text/x-python",
   "name": "python",
   "nbconvert_exporter": "python",
   "pygments_lexer": "ipython3",
   "version": "3.8.3"
  },
  "orig_nbformat": 4
 },
 "nbformat": 4,
 "nbformat_minor": 2
}
