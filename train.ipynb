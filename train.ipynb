{
 "cells": [
  {
   "cell_type": "code",
   "execution_count": 19,
   "metadata": {},
   "outputs": [],
   "source": [
    "import pandas as pd\n",
    "import os\n",
    "from sklearn.model_selection import GridSearchCV\n",
    "from sklearn.ensemble import RandomForestRegressor\n",
    "from sklearn.model_selection import LeaveOneGroupOut\n",
    "from sklearn.dummy import DummyRegressor\n",
    "import joblib"
   ]
  },
  {
   "cell_type": "code",
   "execution_count": 23,
   "metadata": {},
   "outputs": [
    {
     "name": "stdout",
     "output_type": "stream",
     "text": [
      "dim_5_budget_10000_conf_19\n",
      "Fitting 5 folds for each of 1 candidates, totalling 5 fits\n",
      "DummyRegressor()\n",
      "{'mean_fit_time': array([0.00328097]), 'std_fit_time': array([0.00170246]), 'mean_score_time': array([0.00476041]), 'std_score_time': array([0.00247002]), 'param_strategy': masked_array(data=['mean'],\n",
      "             mask=[False],\n",
      "       fill_value='?',\n",
      "            dtype=object), 'params': [{'strategy': 'mean'}], 'split0_test_neg_mean_squared_error': array([-2903.60583396]), 'split1_test_neg_mean_squared_error': array([-8207.17440931]), 'split2_test_neg_mean_squared_error': array([-8811.76830649]), 'split3_test_neg_mean_squared_error': array([-148508.57025882]), 'split4_test_neg_mean_squared_error': array([-18377.8490015]), 'mean_test_neg_mean_squared_error': array([-37361.79356202]), 'std_test_neg_mean_squared_error': array([55796.87909319]), 'rank_test_neg_mean_squared_error': array([1], dtype=int32), 'split0_test_neg_root_mean_squared_error': array([-53.885117]), 'split1_test_neg_root_mean_squared_error': array([-90.59345677]), 'split2_test_neg_root_mean_squared_error': array([-93.87101952]), 'split3_test_neg_root_mean_squared_error': array([-385.3680971]), 'split4_test_neg_root_mean_squared_error': array([-135.56492541]), 'mean_test_neg_root_mean_squared_error': array([-151.85652316]), 'std_test_neg_root_mean_squared_error': array([119.5884189]), 'rank_test_neg_root_mean_squared_error': array([1], dtype=int32), 'split0_test_r2': array([-0.55443736]), 'split1_test_r2': array([-0.02427885]), 'split2_test_r2': array([-0.0643426]), 'split3_test_r2': array([-0.02856076]), 'split4_test_r2': array([-0.00135848]), 'mean_test_r2': array([-0.13459561]), 'std_test_r2': array([0.2108876]), 'rank_test_r2': array([1], dtype=int32), 'split0_test_explained_variance': array([-2.22044605e-16]), 'split1_test_explained_variance': array([2.22044605e-16]), 'split2_test_explained_variance': array([0.]), 'split3_test_explained_variance': array([0.]), 'split4_test_explained_variance': array([0.]), 'mean_test_explained_variance': array([0.]), 'std_test_explained_variance': array([1.40433339e-16]), 'rank_test_explained_variance': array([1], dtype=int32)}\n",
      "Fitting 5 folds for each of 2 candidates, totalling 10 fits\n",
      "RandomForestRegressor(random_state=42)\n",
      "{'mean_fit_time': array([0.09322782, 0.63195968]), 'std_fit_time': array([0.01456855, 0.02891084]), 'mean_score_time': array([0.03402443, 0.02743249]), 'std_score_time': array([0.01442994, 0.00518185]), 'param_n_estimators': masked_array(data=[10, 100],\n",
      "             mask=[False, False],\n",
      "       fill_value='?',\n",
      "            dtype=object), 'param_random_state': masked_array(data=[42, 42],\n",
      "             mask=[False, False],\n",
      "       fill_value='?',\n",
      "            dtype=object), 'params': [{'n_estimators': 10, 'random_state': 42}, {'n_estimators': 100, 'random_state': 42}], 'split0_test_neg_mean_squared_error': array([-17298.9216614 ,  -4624.04777166]), 'split1_test_neg_mean_squared_error': array([-18553.5115437 ,  -9542.47685358]), 'split2_test_neg_mean_squared_error': array([-41370.68936335, -29237.00380392]), 'split3_test_neg_mean_squared_error': array([-124140.33269624, -122600.82648517]), 'split4_test_neg_mean_squared_error': array([-11000.02357465,  -8778.91727858]), 'mean_test_neg_mean_squared_error': array([-42472.69576787, -34956.65443858]), 'std_test_neg_mean_squared_error': array([42112.21369454, 44644.00669623]), 'rank_test_neg_mean_squared_error': array([2, 1], dtype=int32), 'split0_test_neg_root_mean_squared_error': array([-131.52536509,  -68.00035126]), 'split1_test_neg_root_mean_squared_error': array([-136.21127539,  -97.68560208]), 'split2_test_neg_root_mean_squared_error': array([-203.39785978, -170.98831482]), 'split3_test_neg_root_mean_squared_error': array([-352.33553993, -350.14400821]), 'split4_test_neg_root_mean_squared_error': array([-104.8809972 ,  -93.69587653]), 'mean_test_neg_root_mean_squared_error': array([-185.67020748, -156.10283058]), 'std_test_neg_root_mean_squared_error': array([ 89.43863719, 102.90073238]), 'rank_test_neg_root_mean_squared_error': array([2, 1], dtype=int32), 'split0_test_r2': array([-8.26092992, -1.4754712 ]), 'split1_test_r2': array([-1.31553132, -0.19092841]), 'split2_test_r2': array([-3.99702051, -2.53143518]), 'split3_test_r2': array([0.14021208, 0.1508746 ]), 'split4_test_r2': array([0.40063895, 0.52166093]), 'mean_test_r2': array([-2.60652614, -0.70505985]), 'std_test_r2': array([3.22986183, 1.13410575]), 'rank_test_r2': array([2, 1], dtype=int32), 'split0_test_explained_variance': array([-7.48878328, -1.26769296]), 'split1_test_explained_variance': array([-1.27211614, -0.16345839]), 'split2_test_explained_variance': array([-3.61229959, -2.31902353]), 'split3_test_explained_variance': array([0.170587  , 0.18011784]), 'split4_test_explained_variance': array([0.40892918, 0.53315523]), 'mean_test_explained_variance': array([-2.35873657, -0.60738036]), 'std_test_explained_variance': array([2.93690296, 1.04726087]), 'rank_test_explained_variance': array([2, 1], dtype=int32)}\n"
     ]
    }
   ],
   "source": [
    "random_state = 42\n",
    "num_folds = 5\n",
    "\n",
    "\n",
    "RF_parameters = {\n",
    "    'n_estimators': [100, 500, 1000],\n",
    "    'max_features': ['auto', 'sqrt', 'log2'],\n",
    "    'max_depth' : [4,8,15, None],\n",
    "    'min_samples_split': [2, 5, 10],\n",
    "    'criterion' :['squared_error', 'absolute_error', 'poisson'],\n",
    "    'random_state': [random_state]\n",
    "}\n",
    "\n",
    "dummy_parameters = {\n",
    "    'strategy': ['mean']\n",
    "}\n",
    "\n",
    "performance_data = []\n",
    "estimators = [DummyRegressor(), RandomForestRegressor()]\n",
    "parameters = [dummy_parameters, RF_parameters]\n",
    "names = [\"dummy\", \"RF\"]\n",
    "\n",
    "for file in os.listdir(\"./Data/processed/\"):\n",
    "    df = pd.read_csv(\"./Data/processed/\"+file, index_col = 0)\n",
    "    groups = df['instance']\n",
    "    evaluation_metrics = ['neg_mean_squared_error', 'neg_root_mean_squared_error', 'r2', 'explained_variance']\n",
    "    X =df.drop(['target', 'function', 'instance'], axis = 1)\n",
    "    y = df.iloc[:,-1]\n",
    "    filename = file.split(\".\")[0]\n",
    "    print(filename)\n",
    "    for i, estimator in enumerate(estimators):\n",
    "        clf = GridSearchCV(estimator = estimator, param_grid = parameters[i], cv = LeaveOneGroupOut(), scoring = evaluation_metrics, refit = 'neg_root_mean_squared_error', verbose=True, n_jobs=-1)\n",
    "        clf.fit(X, y.values.ravel(), groups=groups)\n",
    "        joblib.dump(clf.best_estimator_, './results/models/'+names[i]+\"/\"+filename+'.pkl', compress = 1)\n",
    "        row = [estimator, filename,clf.best_params_]\n",
    "        for metric in evaluation_metrics:\n",
    "            row.append(clf.cv_results_[\"mean_test_\"+metric][clf.best_index_])\n",
    "        performance_data.append(row)\n",
    "        with open(\"./results/models/\"+names[i]+\"/\"+filename+'.params', 'w') as f:\n",
    "            f.write(str(clf.best_params_))\n",
    "    break\n",
    "performance_df = pd.DataFrame(performance_data, columns=['model', 'config', 'parameters', 'neg_mean_squared_error', 'neg_root_mean_squared_error', 'r2', 'explained_variance'])\n",
    "performance_df.to_csv(\"./results/performance_table.csv\")\n",
    "\n",
    "\n",
    "\n"
   ]
  },
  {
   "cell_type": "code",
   "execution_count": 15,
   "metadata": {},
   "outputs": [
    {
     "name": "stdout",
     "output_type": "stream",
     "text": [
      "TT\n",
      "4624.047771655277\n",
      "TT\n",
      "9542.476853578382\n",
      "TT\n",
      "29237.003803919157\n",
      "TT\n",
      "122600.8264851696\n",
      "TT\n",
      "8778.91727858269\n"
     ]
    }
   ],
   "source": []
  }
 ],
 "metadata": {
  "interpreter": {
   "hash": "082e9a3bcad0a290d0001e938aa60b99250c6c2ef33a923c00b70f9826caf4b7"
  },
  "kernelspec": {
   "display_name": "Python 3.8.3 64-bit",
   "language": "python",
   "name": "python3"
  },
  "language_info": {
   "codemirror_mode": {
    "name": "ipython",
    "version": 3
   },
   "file_extension": ".py",
   "mimetype": "text/x-python",
   "name": "python",
   "nbconvert_exporter": "python",
   "pygments_lexer": "ipython3",
   "version": "3.8.3"
  },
  "orig_nbformat": 4
 },
 "nbformat": 4,
 "nbformat_minor": 2
}
